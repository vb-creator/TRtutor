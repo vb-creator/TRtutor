{
 "cells": [
  {
   "cell_type": "code",
   "execution_count": 3,
   "metadata": {},
   "outputs": [
    {
     "name": "stdout",
     "output_type": "stream",
     "text": [
      "Extracted first 100 questions to gsm8k_first_100.jsonl\n"
     ]
    }
   ],
   "source": [
    "import json\n",
    "\n",
    "# Path to the raw GSM8K training file you’ve downloaded\n",
    "input_path = \"data/grade-school-math/grade_school_math/data/train.jsonl\"\n",
    "output_path = \"gsm8k_first_100.jsonl\"\n",
    "\n",
    "# Number of problems to extract\n",
    "N = 100\n",
    "\n",
    "with open(input_path, \"r\", encoding=\"utf-8\") as fin, \\\n",
    "     open(output_path, \"w\", encoding=\"utf-8\") as fout:\n",
    "    for i, line in enumerate(fin):\n",
    "        if i >= N:\n",
    "            break\n",
    "        # Each line is a JSON dict with keys \"question\" and \"answer\"\n",
    "        obj = json.loads(line)\n",
    "        # Keep only the question field (drop the solution)\n",
    "        fout.write(json.dumps({\"question\": obj[\"question\"]}, ensure_ascii=False) + \"\\n\")\n",
    "\n",
    "print(f\"Extracted first {N} questions to {output_path}\")\n"
   ]
  },
  {
   "cell_type": "code",
   "execution_count": null,
   "metadata": {},
   "outputs": [],
   "source": []
  }
 ],
 "metadata": {
  "kernelspec": {
   "display_name": "llm_env",
   "language": "python",
   "name": "python3"
  },
  "language_info": {
   "codemirror_mode": {
    "name": "ipython",
    "version": 3
   },
   "file_extension": ".py",
   "mimetype": "text/x-python",
   "name": "python",
   "nbconvert_exporter": "python",
   "pygments_lexer": "ipython3",
   "version": "3.10.13"
  }
 },
 "nbformat": 4,
 "nbformat_minor": 2
}
